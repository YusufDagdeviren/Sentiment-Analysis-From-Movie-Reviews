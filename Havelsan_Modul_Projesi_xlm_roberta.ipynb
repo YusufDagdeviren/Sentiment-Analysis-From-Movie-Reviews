{
  "cells": [
    {
      "cell_type": "code",
      "execution_count": 51,
      "metadata": {
        "id": "KO3oIWIM4iCJ"
      },
      "outputs": [],
      "source": [
        "import numpy as np\n",
        "import pandas as pd\n",
        "import matplotlib.pyplot as plt\n",
        "from sklearn.feature_extraction.text import CountVectorizer,TfidfVectorizer\n",
        "from sklearn.metrics import accuracy_score, confusion_matrix, classification_report\n",
        "from sklearn.base import TransformerMixin\n",
        "from sklearn.pipeline import Pipeline\n",
        "from sklearn.svm import LinearSVC\n",
        "from sklearn.linear_model import LogisticRegression\n",
        "from sklearn.ensemble import RandomForestClassifier\n",
        "from sklearn.model_selection import train_test_split\n",
        "import seaborn as sns"
      ]
    },
    {
      "cell_type": "code",
      "execution_count": 52,
      "metadata": {
        "colab": {
          "base_uri": "https://localhost:8080/"
        },
        "id": "xrYzmXKzUlDn",
        "outputId": "474b8ecf-9708-494b-c8f8-8f3700dce582"
      },
      "outputs": [
        {
          "name": "stderr",
          "output_type": "stream",
          "text": [
            "[nltk_data] Downloading package stopwords to /root/nltk_data...\n",
            "[nltk_data]   Package stopwords is already up-to-date!\n",
            "[nltk_data] Downloading package punkt to /root/nltk_data...\n",
            "[nltk_data]   Package punkt is already up-to-date!\n"
          ]
        }
      ],
      "source": [
        "import tensorflow as tf\n",
        "import nltk\n",
        "nltk.download('stopwords')\n",
        "nltk.download('punkt')\n",
        "\n",
        "import re\n",
        "from nltk.corpus import stopwords\n",
        "from tensorflow.keras.models import Sequential\n",
        "from tensorflow.keras.preprocessing.text import Tokenizer\n",
        "from tensorflow.keras.layers import Activation,Dense, Dropout\n",
        "from tensorflow.keras.preprocessing.sequence import pad_sequences\n",
        "from tensorflow.keras.layers import Flatten,GlobalMaxPooling1D,Conv1D, Embedding, LSTM"
      ]
    },
    {
      "cell_type": "code",
      "execution_count": 53,
      "metadata": {
        "colab": {
          "base_uri": "https://localhost:8080/"
        },
        "id": "mVRLt7uaRsyx",
        "outputId": "80110b44-0bcc-473a-d34d-e8adc5d52ad9"
      },
      "outputs": [
        {
          "name": "stdout",
          "output_type": "stream",
          "text": [
            "We will use the GPU: NVIDIA L4\n"
          ]
        }
      ],
      "source": [
        "import torch\n",
        "if torch.cuda.is_available():\n",
        "    device = torch.device(\"cuda\")\n",
        "    print('We will use the GPU:', torch.cuda.get_device_name(0))\n",
        "\n",
        "else:\n",
        "    print('No GPU available, using the CPU instead.')\n",
        "    device = torch.device(\"cpu\")"
      ]
    },
    {
      "cell_type": "code",
      "execution_count": 54,
      "metadata": {
        "colab": {
          "base_uri": "https://localhost:8080/"
        },
        "id": "HlKO77J9vo7c",
        "outputId": "7a5141a3-5055-4098-8e27-028c2f72149e"
      },
      "outputs": [
        {
          "name": "stdout",
          "output_type": "stream",
          "text": [
            "Fri May 31 17:35:39 2024       \n",
            "+---------------------------------------------------------------------------------------+\n",
            "| NVIDIA-SMI 535.104.05             Driver Version: 535.104.05   CUDA Version: 12.2     |\n",
            "|-----------------------------------------+----------------------+----------------------+\n",
            "| GPU  Name                 Persistence-M | Bus-Id        Disp.A | Volatile Uncorr. ECC |\n",
            "| Fan  Temp   Perf          Pwr:Usage/Cap |         Memory-Usage | GPU-Util  Compute M. |\n",
            "|                                         |                      |               MIG M. |\n",
            "|=========================================+======================+======================|\n",
            "|   0  NVIDIA L4                      Off | 00000000:00:03.0 Off |                    0 |\n",
            "| N/A   76C    P0              36W /  72W |  11767MiB / 23034MiB |      0%      Default |\n",
            "|                                         |                      |                  N/A |\n",
            "+-----------------------------------------+----------------------+----------------------+\n",
            "                                                                                         \n",
            "+---------------------------------------------------------------------------------------+\n",
            "| Processes:                                                                            |\n",
            "|  GPU   GI   CI        PID   Type   Process name                            GPU Memory |\n",
            "|        ID   ID                                                             Usage      |\n",
            "|=======================================================================================|\n",
            "+---------------------------------------------------------------------------------------+\n"
          ]
        }
      ],
      "source": [
        "gpu_info = !nvidia-smi\n",
        "gpu_info = '\\n'.join(gpu_info)\n",
        "if gpu_info.find('failed') >= 0:\n",
        "  print('Not connected to a GPU')\n",
        "else:\n",
        "  print(gpu_info)"
      ]
    },
    {
      "cell_type": "code",
      "execution_count": 55,
      "metadata": {
        "colab": {
          "base_uri": "https://localhost:8080/"
        },
        "id": "yIe5c-K9vo0Q",
        "outputId": "d4a469fb-99d9-482d-8426-b21881bca693"
      },
      "outputs": [
        {
          "name": "stdout",
          "output_type": "stream",
          "text": [
            "Your runtime has 56.9 gigabytes of available RAM\n",
            "\n",
            "You are using a high-RAM runtime!\n"
          ]
        }
      ],
      "source": [
        "from psutil import virtual_memory\n",
        "ram_gb = virtual_memory().total / 1e9\n",
        "print('Your runtime has {:.1f} gigabytes of available RAM\\n'.format(ram_gb))\n",
        "\n",
        "if ram_gb < 20:\n",
        "  print('Not using a high-RAM runtime')\n",
        "else:\n",
        "  print('You are using a high-RAM runtime!')"
      ]
    },
    {
      "cell_type": "code",
      "execution_count": 56,
      "metadata": {
        "id": "xicZxTu4SNWg"
      },
      "outputs": [],
      "source": [
        "movie_review = pd.read_csv(\"/content/drive/MyDrive/Movie_Reviews_Dataset/IMDB Dataset.csv\")"
      ]
    },
    {
      "cell_type": "code",
      "execution_count": 57,
      "metadata": {
        "colab": {
          "base_uri": "https://localhost:8080/",
          "height": 206
        },
        "id": "GFSTI_LcSrcn",
        "outputId": "327e2ea6-65be-4109-e781-83121a20bb4d"
      },
      "outputs": [
        {
          "data": {
            "application/vnd.google.colaboratory.intrinsic+json": {
              "summary": "{\n  \"name\": \"movie_review\",\n  \"rows\": 50000,\n  \"fields\": [\n    {\n      \"column\": \"review\",\n      \"properties\": {\n        \"dtype\": \"string\",\n        \"num_unique_values\": 49582,\n        \"samples\": [\n          \"\\\"Soul Plane\\\" is a horrible attempt at comedy that only should appeal people with thick skulls, bloodshot eyes and furry pawns. <br /><br />The plot is not only incoherent but also non-existent, acting is mostly sub sub-par with a gang of highly moronic and dreadful characters thrown in for bad measure, jokes are often spotted miles ahead and almost never even a bit amusing. This movie lacks any structure and is full of racial stereotypes that must have seemed old even in the fifties, the only thing it really has going for it is some pretty ladies, but really, if you want that you can rent something from the \\\"Adult\\\" section. OK?<br /><br />I can hardly see anything here to recommend since you'll probably have a lot a better and productive time chasing rats with a sledgehammer or inventing waterproof teabags or whatever.<br /><br />2/10\",\n          \"Guest from the Future tells a fascinating story of time travel, friendship, battle of good and evil -- all with a small budget, child actors, and few special effects. Something for Spielberg and Lucas to learn from. ;) A sixth-grader Kolya \\\"Nick\\\" Gerasimov finds a time machine in the basement of a decrepit building and travels 100 years into the future. He discovers a near-perfect, utopian society where robots play guitars and write poetry, everyone is kind to each other and people enjoy everything technology has to offer. Alice is the daughter of a prominent scientist who invented a device called Mielophone that allows to read minds of humans and animals. The device can be put to both good and bad use, depending on whose hands it falls into. When two evil space pirates from Saturn who want to rule the universe attempt to steal Mielophone, it falls into the hands of 20th century school boy Nick. With the pirates hot on his tracks, he travels back to his time, followed by the pirates, and Alice. Chaos, confusion and funny situations follow as the luckless pirates try to blend in with the earthlings. Alice enrolls in the same school Nick goes to and demonstrates superhuman abilities in PE class. The catch is, Alice doesn't know what Nick looks like, while the pirates do. Also, the pirates are able to change their appearance and turn literally into anyone. (Hmm, I wonder if this is where James Cameron got the idea for Terminator...) Who gets to Nick -- and Mielophone -- first? Excellent plot, non-stop adventures, and great soundtrack. I wish Hollywood made kid movies like this one...\",\n          \"\\\"National Treasure\\\" (2004) is a thoroughly misguided hodge-podge of plot entanglements that borrow from nearly every cloak and dagger government conspiracy clich\\u00e9 that has ever been written. The film stars Nicholas Cage as Benjamin Franklin Gates (how precious is that, I ask you?); a seemingly normal fellow who, for no other reason than being of a lineage of like-minded misguided fortune hunters, decides to steal a 'national treasure' that has been hidden by the United States founding fathers. After a bit of subtext and background that plays laughably (unintentionally) like Indiana Jones meets The Patriot, the film degenerates into one misguided whimsy after another \\u0096 attempting to create a 'Stanley Goodspeed' regurgitation of Nicholas Cage and launch the whole convoluted mess forward with a series of high octane, but disconnected misadventures.<br /><br />The relevancy and logic to having George Washington and his motley crew of patriots burying a king's ransom someplace on native soil, and then, going through the meticulous plan of leaving clues scattered throughout U.S. currency art work, is something that director Jon Turteltaub never quite gets around to explaining. Couldn't Washington found better usage for such wealth during the start up of the country? Hence, we are left with a mystery built on top of an enigma that is already on shaky ground by the time Ben appoints himself the new custodian of this untold wealth. Ben's intentions are noble \\u0096 if confusing. He's set on protecting the treasure. For who and when?\\u0085your guess is as good as mine.<br /><br />But there are a few problems with Ben's crusade. First up, his friend, Ian Holmes (Sean Bean) decides that he can't wait for Ben to make up his mind about stealing the Declaration of Independence from the National Archives (oh, yeah \\u0096 brilliant idea!). Presumably, the back of that famous document holds the secret answer to the ultimate fortune. So Ian tries to kill Ben. The assassination attempt is, of course, unsuccessful, if overly melodramatic. It also affords Ben the opportunity to pick up, and pick on, the very sultry curator of the archives, Abigail Chase (Diane Kruger). She thinks Ben is clearly a nut \\u0096 at least at the beginning. But true to action/romance form, Abby's resolve melts quicker than you can say, \\\"is that the Hope Diamond?\\\" The film moves into full X-File-ish mode, as the FBI, mistakenly believing that Ben is behind the theft, retaliate in various benign ways that lead to a multi-layering of action sequences reminiscent of Mission Impossible meets The Fugitive. Honestly, don't those guys ever get 'intelligence' information that is correct? In the final analysis, \\\"National Treasure\\\" isn't great film making, so much as it's a patchwork rehash of tired old bits from other movies, woven together from scraps, the likes of which would make IL' Betsy Ross blush.<br /><br />The Buena Vista DVD delivers a far more generous treatment than this film is deserving of. The anamorphic widescreen picture exhibits a very smooth and finely detailed image with very rich colors, natural flesh tones, solid blacks and clean whites. The stylized image is also free of blemishes and digital enhancements. The audio is 5.1 and delivers a nice sonic boom to your side and rear speakers with intensity and realism. Extras include a host of promotional junket material that is rather deep and over the top in its explanation of how and why this film was made. If only, as an audience, we had had more clarification as to why Ben and co. were chasing after an illusive treasure, this might have been one good flick. Extras conclude with the theatrical trailer, audio commentary and deleted scenes. Not for the faint-hearted \\u0096 just the thick-headed.\"\n        ],\n        \"semantic_type\": \"\",\n        \"description\": \"\"\n      }\n    },\n    {\n      \"column\": \"sentiment\",\n      \"properties\": {\n        \"dtype\": \"category\",\n        \"num_unique_values\": 2,\n        \"samples\": [\n          \"negative\",\n          \"positive\"\n        ],\n        \"semantic_type\": \"\",\n        \"description\": \"\"\n      }\n    }\n  ]\n}",
              "type": "dataframe",
              "variable_name": "movie_review"
            },
            "text/html": [
              "\n",
              "  <div id=\"df-5d192fc4-1425-4531-870b-8048e890b1c7\" class=\"colab-df-container\">\n",
              "    <div>\n",
              "<style scoped>\n",
              "    .dataframe tbody tr th:only-of-type {\n",
              "        vertical-align: middle;\n",
              "    }\n",
              "\n",
              "    .dataframe tbody tr th {\n",
              "        vertical-align: top;\n",
              "    }\n",
              "\n",
              "    .dataframe thead th {\n",
              "        text-align: right;\n",
              "    }\n",
              "</style>\n",
              "<table border=\"1\" class=\"dataframe\">\n",
              "  <thead>\n",
              "    <tr style=\"text-align: right;\">\n",
              "      <th></th>\n",
              "      <th>review</th>\n",
              "      <th>sentiment</th>\n",
              "    </tr>\n",
              "  </thead>\n",
              "  <tbody>\n",
              "    <tr>\n",
              "      <th>0</th>\n",
              "      <td>One of the other reviewers has mentioned that ...</td>\n",
              "      <td>positive</td>\n",
              "    </tr>\n",
              "    <tr>\n",
              "      <th>1</th>\n",
              "      <td>A wonderful little production. &lt;br /&gt;&lt;br /&gt;The...</td>\n",
              "      <td>positive</td>\n",
              "    </tr>\n",
              "    <tr>\n",
              "      <th>2</th>\n",
              "      <td>I thought this was a wonderful way to spend ti...</td>\n",
              "      <td>positive</td>\n",
              "    </tr>\n",
              "    <tr>\n",
              "      <th>3</th>\n",
              "      <td>Basically there's a family where a little boy ...</td>\n",
              "      <td>negative</td>\n",
              "    </tr>\n",
              "    <tr>\n",
              "      <th>4</th>\n",
              "      <td>Petter Mattei's \"Love in the Time of Money\" is...</td>\n",
              "      <td>positive</td>\n",
              "    </tr>\n",
              "  </tbody>\n",
              "</table>\n",
              "</div>\n",
              "    <div class=\"colab-df-buttons\">\n",
              "\n",
              "  <div class=\"colab-df-container\">\n",
              "    <button class=\"colab-df-convert\" onclick=\"convertToInteractive('df-5d192fc4-1425-4531-870b-8048e890b1c7')\"\n",
              "            title=\"Convert this dataframe to an interactive table.\"\n",
              "            style=\"display:none;\">\n",
              "\n",
              "  <svg xmlns=\"http://www.w3.org/2000/svg\" height=\"24px\" viewBox=\"0 -960 960 960\">\n",
              "    <path d=\"M120-120v-720h720v720H120Zm60-500h600v-160H180v160Zm220 220h160v-160H400v160Zm0 220h160v-160H400v160ZM180-400h160v-160H180v160Zm440 0h160v-160H620v160ZM180-180h160v-160H180v160Zm440 0h160v-160H620v160Z\"/>\n",
              "  </svg>\n",
              "    </button>\n",
              "\n",
              "  <style>\n",
              "    .colab-df-container {\n",
              "      display:flex;\n",
              "      gap: 12px;\n",
              "    }\n",
              "\n",
              "    .colab-df-convert {\n",
              "      background-color: #E8F0FE;\n",
              "      border: none;\n",
              "      border-radius: 50%;\n",
              "      cursor: pointer;\n",
              "      display: none;\n",
              "      fill: #1967D2;\n",
              "      height: 32px;\n",
              "      padding: 0 0 0 0;\n",
              "      width: 32px;\n",
              "    }\n",
              "\n",
              "    .colab-df-convert:hover {\n",
              "      background-color: #E2EBFA;\n",
              "      box-shadow: 0px 1px 2px rgba(60, 64, 67, 0.3), 0px 1px 3px 1px rgba(60, 64, 67, 0.15);\n",
              "      fill: #174EA6;\n",
              "    }\n",
              "\n",
              "    .colab-df-buttons div {\n",
              "      margin-bottom: 4px;\n",
              "    }\n",
              "\n",
              "    [theme=dark] .colab-df-convert {\n",
              "      background-color: #3B4455;\n",
              "      fill: #D2E3FC;\n",
              "    }\n",
              "\n",
              "    [theme=dark] .colab-df-convert:hover {\n",
              "      background-color: #434B5C;\n",
              "      box-shadow: 0px 1px 3px 1px rgba(0, 0, 0, 0.15);\n",
              "      filter: drop-shadow(0px 1px 2px rgba(0, 0, 0, 0.3));\n",
              "      fill: #FFFFFF;\n",
              "    }\n",
              "  </style>\n",
              "\n",
              "    <script>\n",
              "      const buttonEl =\n",
              "        document.querySelector('#df-5d192fc4-1425-4531-870b-8048e890b1c7 button.colab-df-convert');\n",
              "      buttonEl.style.display =\n",
              "        google.colab.kernel.accessAllowed ? 'block' : 'none';\n",
              "\n",
              "      async function convertToInteractive(key) {\n",
              "        const element = document.querySelector('#df-5d192fc4-1425-4531-870b-8048e890b1c7');\n",
              "        const dataTable =\n",
              "          await google.colab.kernel.invokeFunction('convertToInteractive',\n",
              "                                                    [key], {});\n",
              "        if (!dataTable) return;\n",
              "\n",
              "        const docLinkHtml = 'Like what you see? Visit the ' +\n",
              "          '<a target=\"_blank\" href=https://colab.research.google.com/notebooks/data_table.ipynb>data table notebook</a>'\n",
              "          + ' to learn more about interactive tables.';\n",
              "        element.innerHTML = '';\n",
              "        dataTable['output_type'] = 'display_data';\n",
              "        await google.colab.output.renderOutput(dataTable, element);\n",
              "        const docLink = document.createElement('div');\n",
              "        docLink.innerHTML = docLinkHtml;\n",
              "        element.appendChild(docLink);\n",
              "      }\n",
              "    </script>\n",
              "  </div>\n",
              "\n",
              "\n",
              "<div id=\"df-a2352641-ef4b-440f-a604-ed5dc4961162\">\n",
              "  <button class=\"colab-df-quickchart\" onclick=\"quickchart('df-a2352641-ef4b-440f-a604-ed5dc4961162')\"\n",
              "            title=\"Suggest charts\"\n",
              "            style=\"display:none;\">\n",
              "\n",
              "<svg xmlns=\"http://www.w3.org/2000/svg\" height=\"24px\"viewBox=\"0 0 24 24\"\n",
              "     width=\"24px\">\n",
              "    <g>\n",
              "        <path d=\"M19 3H5c-1.1 0-2 .9-2 2v14c0 1.1.9 2 2 2h14c1.1 0 2-.9 2-2V5c0-1.1-.9-2-2-2zM9 17H7v-7h2v7zm4 0h-2V7h2v10zm4 0h-2v-4h2v4z\"/>\n",
              "    </g>\n",
              "</svg>\n",
              "  </button>\n",
              "\n",
              "<style>\n",
              "  .colab-df-quickchart {\n",
              "      --bg-color: #E8F0FE;\n",
              "      --fill-color: #1967D2;\n",
              "      --hover-bg-color: #E2EBFA;\n",
              "      --hover-fill-color: #174EA6;\n",
              "      --disabled-fill-color: #AAA;\n",
              "      --disabled-bg-color: #DDD;\n",
              "  }\n",
              "\n",
              "  [theme=dark] .colab-df-quickchart {\n",
              "      --bg-color: #3B4455;\n",
              "      --fill-color: #D2E3FC;\n",
              "      --hover-bg-color: #434B5C;\n",
              "      --hover-fill-color: #FFFFFF;\n",
              "      --disabled-bg-color: #3B4455;\n",
              "      --disabled-fill-color: #666;\n",
              "  }\n",
              "\n",
              "  .colab-df-quickchart {\n",
              "    background-color: var(--bg-color);\n",
              "    border: none;\n",
              "    border-radius: 50%;\n",
              "    cursor: pointer;\n",
              "    display: none;\n",
              "    fill: var(--fill-color);\n",
              "    height: 32px;\n",
              "    padding: 0;\n",
              "    width: 32px;\n",
              "  }\n",
              "\n",
              "  .colab-df-quickchart:hover {\n",
              "    background-color: var(--hover-bg-color);\n",
              "    box-shadow: 0 1px 2px rgba(60, 64, 67, 0.3), 0 1px 3px 1px rgba(60, 64, 67, 0.15);\n",
              "    fill: var(--button-hover-fill-color);\n",
              "  }\n",
              "\n",
              "  .colab-df-quickchart-complete:disabled,\n",
              "  .colab-df-quickchart-complete:disabled:hover {\n",
              "    background-color: var(--disabled-bg-color);\n",
              "    fill: var(--disabled-fill-color);\n",
              "    box-shadow: none;\n",
              "  }\n",
              "\n",
              "  .colab-df-spinner {\n",
              "    border: 2px solid var(--fill-color);\n",
              "    border-color: transparent;\n",
              "    border-bottom-color: var(--fill-color);\n",
              "    animation:\n",
              "      spin 1s steps(1) infinite;\n",
              "  }\n",
              "\n",
              "  @keyframes spin {\n",
              "    0% {\n",
              "      border-color: transparent;\n",
              "      border-bottom-color: var(--fill-color);\n",
              "      border-left-color: var(--fill-color);\n",
              "    }\n",
              "    20% {\n",
              "      border-color: transparent;\n",
              "      border-left-color: var(--fill-color);\n",
              "      border-top-color: var(--fill-color);\n",
              "    }\n",
              "    30% {\n",
              "      border-color: transparent;\n",
              "      border-left-color: var(--fill-color);\n",
              "      border-top-color: var(--fill-color);\n",
              "      border-right-color: var(--fill-color);\n",
              "    }\n",
              "    40% {\n",
              "      border-color: transparent;\n",
              "      border-right-color: var(--fill-color);\n",
              "      border-top-color: var(--fill-color);\n",
              "    }\n",
              "    60% {\n",
              "      border-color: transparent;\n",
              "      border-right-color: var(--fill-color);\n",
              "    }\n",
              "    80% {\n",
              "      border-color: transparent;\n",
              "      border-right-color: var(--fill-color);\n",
              "      border-bottom-color: var(--fill-color);\n",
              "    }\n",
              "    90% {\n",
              "      border-color: transparent;\n",
              "      border-bottom-color: var(--fill-color);\n",
              "    }\n",
              "  }\n",
              "</style>\n",
              "\n",
              "  <script>\n",
              "    async function quickchart(key) {\n",
              "      const quickchartButtonEl =\n",
              "        document.querySelector('#' + key + ' button');\n",
              "      quickchartButtonEl.disabled = true;  // To prevent multiple clicks.\n",
              "      quickchartButtonEl.classList.add('colab-df-spinner');\n",
              "      try {\n",
              "        const charts = await google.colab.kernel.invokeFunction(\n",
              "            'suggestCharts', [key], {});\n",
              "      } catch (error) {\n",
              "        console.error('Error during call to suggestCharts:', error);\n",
              "      }\n",
              "      quickchartButtonEl.classList.remove('colab-df-spinner');\n",
              "      quickchartButtonEl.classList.add('colab-df-quickchart-complete');\n",
              "    }\n",
              "    (() => {\n",
              "      let quickchartButtonEl =\n",
              "        document.querySelector('#df-a2352641-ef4b-440f-a604-ed5dc4961162 button');\n",
              "      quickchartButtonEl.style.display =\n",
              "        google.colab.kernel.accessAllowed ? 'block' : 'none';\n",
              "    })();\n",
              "  </script>\n",
              "</div>\n",
              "\n",
              "    </div>\n",
              "  </div>\n"
            ],
            "text/plain": [
              "                                              review sentiment\n",
              "0  One of the other reviewers has mentioned that ...  positive\n",
              "1  A wonderful little production. <br /><br />The...  positive\n",
              "2  I thought this was a wonderful way to spend ti...  positive\n",
              "3  Basically there's a family where a little boy ...  negative\n",
              "4  Petter Mattei's \"Love in the Time of Money\" is...  positive"
            ]
          },
          "execution_count": 57,
          "metadata": {},
          "output_type": "execute_result"
        }
      ],
      "source": [
        "movie_review.head()"
      ]
    },
    {
      "cell_type": "code",
      "execution_count": 58,
      "metadata": {
        "colab": {
          "base_uri": "https://localhost:8080/"
        },
        "id": "i5TAri5BSraI",
        "outputId": "5ca5a330-6b64-4804-ebc8-b0729a9f5fc6"
      },
      "outputs": [
        {
          "name": "stdout",
          "output_type": "stream",
          "text": [
            "<class 'pandas.core.frame.DataFrame'>\n",
            "RangeIndex: 50000 entries, 0 to 49999\n",
            "Data columns (total 2 columns):\n",
            " #   Column     Non-Null Count  Dtype \n",
            "---  ------     --------------  ----- \n",
            " 0   review     50000 non-null  object\n",
            " 1   sentiment  50000 non-null  object\n",
            "dtypes: object(2)\n",
            "memory usage: 781.4+ KB\n"
          ]
        }
      ],
      "source": [
        "movie_review.info()"
      ]
    },
    {
      "cell_type": "code",
      "execution_count": 59,
      "metadata": {
        "colab": {
          "base_uri": "https://localhost:8080/"
        },
        "id": "56r5-VCqSrUz",
        "outputId": "3ce1b3f7-cec8-410a-f86c-977bb3498754"
      },
      "outputs": [
        {
          "data": {
            "text/plain": [
              "review       0\n",
              "sentiment    0\n",
              "dtype: int64"
            ]
          },
          "execution_count": 59,
          "metadata": {},
          "output_type": "execute_result"
        }
      ],
      "source": [
        "movie_review.isnull().sum()"
      ]
    },
    {
      "cell_type": "code",
      "execution_count": 60,
      "metadata": {
        "colab": {
          "base_uri": "https://localhost:8080/",
          "height": 453
        },
        "id": "brqNiso7SrMp",
        "outputId": "1c089b3c-05c5-4775-fcba-8399d49a3703"
      },
      "outputs": [
        {
          "data": {
            "image/png": "[encoded data removed]",
            "text/plain": [
              "<Figure size 640x480 with 1 Axes>"
            ]
          },
          "metadata": {},
          "output_type": "display_data"
        }
      ],
      "source": [
        "plt.style.use(\"ggplot\")\n",
        "sns.countplot(data = movie_review, x = movie_review[\"sentiment\"])\n",
        "plt.show()"
      ]
    },
    {
      "cell_type": "code",
      "execution_count": 61,
      "metadata": {
        "colab": {
          "base_uri": "https://localhost:8080/",
          "height": 140
        },
        "id": "iou6IHhSTw7t",
        "outputId": "0e06aacc-ffaa-4238-c062-0a65247bc77d"
      },
      "outputs": [
        {
          "data": {
            "application/vnd.google.colaboratory.intrinsic+json": {
              "type": "string"
            },
            "text/plain": [
              "'I thought this was a wonderful way to spend time on a too hot summer weekend, sitting in the air conditioned theater and watching a light-hearted comedy. The plot is simplistic, but the dialogue is witty and the characters are likable (even the well bread suspected serial killer). While some may be disappointed when they realize this is not Match Point 2: Risk Addiction, I thought it was proof that Woody Allen is still fully in control of the style many of us have grown to love.<br /><br />This was the most I\\'d laughed at one of Woody\\'s comedies in years (dare I say a decade?). While I\\'ve never been impressed with Scarlet Johanson, in this she managed to tone down her \"sexy\" image and jumped right into a average, but spirited young woman.<br /><br />This may not be the crown jewel of his career, but it was wittier than \"Devil Wears Prada\" and more interesting than \"Superman\" a great comedy to go see with friends.'"
            ]
          },
          "execution_count": 61,
          "metadata": {},
          "output_type": "execute_result"
        }
      ],
      "source": [
        "movie_review[\"review\"][2]"
      ]
    },
    {
      "cell_type": "markdown",
      "metadata": {
        "id": "mM1rpoDhX2FG"
      },
      "source": [
        "# Data Preprocess"
      ]
    },
    {
      "cell_type": "code",
      "execution_count": 62,
      "metadata": {
        "id": "iJHrbaKHVAX1"
      },
      "outputs": [],
      "source": [
        "def preprocess_data(sentence):\n",
        "  stop_words = stopwords.words(\"english\")\n",
        "  html_tag = re.compile(r'<[^>]+>')\n",
        "  sentence = sentence.lower()\n",
        "  # html tagleri silme\n",
        "  sentence = html_tag.sub('', sentence)\n",
        "  # noktalama isaretleri ve sayilari silme\n",
        "  sentence = re.sub('[^a-zA-Z]', ' ', sentence)\n",
        "  # tek kalan karakterleri silme\n",
        "  sentence = re.sub(r\"\\s+[a-zA-Z]\\s+\", ' ', sentence)\n",
        "  # birden fazla boşluklari silme\n",
        "  sentence = re.sub(r'\\s+', ' ', sentence)\n",
        "  # durdurma kelimelerini silme\n",
        "  pattern = re.compile(r'\\b(' + r'|'.join(stop_words) + r')\\b\\s*')\n",
        "  sentence = pattern.sub('', sentence)\n",
        "\n",
        "  return sentence"
      ]
    },
    {
      "cell_type": "code",
      "execution_count": 63,
      "metadata": {
        "id": "oiPWNUubZPIu"
      },
      "outputs": [],
      "source": [
        "x = []\n",
        "sentences = list(movie_review[\"review\"])\n",
        "for sen in sentences:\n",
        "  x.append(preprocess_data(sen))"
      ]
    },
    {
      "cell_type": "code",
      "execution_count": 64,
      "metadata": {
        "colab": {
          "base_uri": "https://localhost:8080/",
          "height": 88
        },
        "id": "BYN4yd79ZO2Q",
        "outputId": "7bb6b582-e381-46bf-8b78-4b3bee1e8c90"
      },
      "outputs": [
        {
          "data": {
            "application/vnd.google.colaboratory.intrinsic+json": {
              "type": "string"
            },
            "text/plain": [
              "'thought wonderful way spend time hot summer weekend sitting air conditioned theater watching light hearted comedy plot simplistic dialogue witty characters likable even well bread suspected serial killer may disappointed realize match point risk addiction thought proof woody allen still fully control style many us grown love laughed one woody comedies years dare say decade never impressed scarlet johanson managed tone sexy image jumped right average spirited young woman may crown jewel career wittier devil wears prada interesting superman great comedy go see friends '"
            ]
          },
          "execution_count": 64,
          "metadata": {},
          "output_type": "execute_result"
        }
      ],
      "source": [
        "x[2]"
      ]
    },
    {
      "cell_type": "code",
      "execution_count": 65,
      "metadata": {
        "colab": {
          "base_uri": "https://localhost:8080/"
        },
        "id": "2CqVM1uwaySU",
        "outputId": "fb045691-62bc-47fe-c0dc-00a2f9aff165"
      },
      "outputs": [
        {
          "data": {
            "text/plain": [
              "array([1, 1, 1, 0, 1])"
            ]
          },
          "execution_count": 65,
          "metadata": {},
          "output_type": "execute_result"
        }
      ],
      "source": [
        "# negatif yorumları 0 pozitif yorumları 1 yapıyoruz\n",
        "y = movie_review[\"sentiment\"]\n",
        "y = np.array(y.map({'negative' : 0, 'positive': 1}))\n",
        "y[:5]"
      ]
    },
    {
      "cell_type": "code",
      "execution_count": 66,
      "metadata": {
        "id": "51R5n60KdZnx"
      },
      "outputs": [],
      "source": [
        "import string\n",
        "from nltk import word_tokenize\n",
        "from nltk.corpus import stopwords\n",
        "from collections import Counter\n",
        "exclude = set(string.punctuation)\n",
        "\n",
        "#for positive sentiments\n",
        "df_pos = movie_review[movie_review[\"sentiment\"]==\"positive\"]\n",
        "\n",
        "#for only unigrams\n",
        "token_list=[]\n",
        "\n",
        "for i,r in df_pos.iterrows():\n",
        "    text=''.join(ch for ch in x[i])\n",
        "    tokens=word_tokenize(text)\n",
        "    tokens=[tok for tok in tokens]\n",
        "    token_list.extend(tokens)\n",
        "\n",
        "frequencies=Counter(token_list)\n",
        "frequencies_sorted=sorted(frequencies.items(), key=lambda k: k[1],reverse=True)\n",
        "top_15=dict(frequencies_sorted[0:15])"
      ]
    },
    {
      "cell_type": "markdown",
      "metadata": {
        "id": "ta2D1r1QjvXh"
      },
      "source": [
        "### Pozitif yorumlarda en çok geçen kelimeler"
      ]
    },
    {
      "cell_type": "code",
      "execution_count": 67,
      "metadata": {
        "colab": {
          "base_uri": "https://localhost:8080/",
          "height": 472
        },
        "id": "wMU81Q9LgVNm",
        "outputId": "ce5fe2cd-103f-4659-ad66-e9dc68c73f84"
      },
      "outputs": [
        {
          "data": {
            "image/png": "[encoded data removed]",
            "text/plain": [
              "<Figure size 640x480 with 1 Axes>"
            ]
          },
          "metadata": {},
          "output_type": "display_data"
        }
      ],
      "source": [
        "plt.rcdefaults()\n",
        "fig, ax = plt.subplots()\n",
        "\n",
        "\n",
        "ngram = top_15.keys()\n",
        "y_pos = np.arange(len(ngram))\n",
        "performance = top_15.values()\n",
        "\n",
        "\n",
        "ax.barh(y_pos, performance, align='center')\n",
        "ax.set_yticks(y_pos)\n",
        "ax.set_yticklabels(ngram)\n",
        "ax.invert_yaxis()\n",
        "ax.set_xlabel('Adet')\n",
        "ax.set_title('Pozitif Yorumlarda En Çok Geçen 15 Kelime')\n",
        "\n",
        "plt.show()"
      ]
    },
    {
      "cell_type": "code",
      "execution_count": 68,
      "metadata": {
        "id": "yK5sxueWh2PY"
      },
      "outputs": [],
      "source": [
        "exclude = set(string.punctuation)\n",
        "\n",
        "#for negative review\n",
        "df_neg = movie_review[movie_review[\"sentiment\"]==\"negative\"]\n",
        "\n",
        "#for only unigrams\n",
        "neg_token_list=[]\n",
        "\n",
        "for i,r in df_neg.iterrows():\n",
        "    text=''.join(ch for ch in x[i])\n",
        "    tokens=word_tokenize(text)\n",
        "    tokens=[tok for tok in tokens]\n",
        "    neg_token_list.extend(tokens)\n",
        "\n",
        "frequencies_neg=Counter(neg_token_list)\n",
        "frequencies_sorted_neg=sorted(frequencies_neg.items(), key=lambda k: k[1],reverse=True)\n",
        "top_15_neg=dict(frequencies_sorted_neg[0:15])"
      ]
    },
    {
      "cell_type": "markdown",
      "metadata": {
        "id": "jcVnQ5Jhj1LU"
      },
      "source": [
        "### Negatif yorumlarda en çok geçen kelimeler"
      ]
    },
    {
      "cell_type": "code",
      "execution_count": 69,
      "metadata": {
        "colab": {
          "base_uri": "https://localhost:8080/",
          "height": 472
        },
        "id": "T24qSzC4h6Pc",
        "outputId": "964ff37f-3349-45ed-ddbb-5ddf840b23e1"
      },
      "outputs": [
        {
          "data": {
            "image/png": "[encoded data removed]",
            "text/plain": [
              "<Figure size 640x480 with 1 Axes>"
            ]
          },
          "metadata": {},
          "output_type": "display_data"
        }
      ],
      "source": [
        "plt.rcdefaults()\n",
        "fig, ax = plt.subplots()\n",
        "\n",
        "# Example data\n",
        "ngram_neg = top_15_neg.keys()\n",
        "y_neg = np.arange(len(ngram_neg))\n",
        "performance_neg = top_15_neg.values()\n",
        "\n",
        "\n",
        "ax.barh(y_neg, performance_neg, align='center')\n",
        "ax.set_yticks(y_neg)\n",
        "ax.set_yticklabels(ngram_neg)\n",
        "ax.invert_yaxis()  # labels read top-to-bottom\n",
        "ax.set_xlabel('Adet')\n",
        "ax.set_title('Negatif Yorumlarda En Çok Geçen 15 Kelime')\n",
        "\n",
        "plt.show()"
      ]
    },
    {
      "cell_type": "markdown",
      "metadata": {
        "id": "79dcx4-8lkg_"
      },
      "source": [
        "### Pozitif yorumlarda yan yana en çok geçen kelimeler"
      ]
    },
    {
      "cell_type": "code",
      "execution_count": 70,
      "metadata": {
        "id": "pPArrtWxlqF8"
      },
      "outputs": [],
      "source": [
        "from nltk.util import ngrams\n",
        "bigrams=list(ngrams(token_list,2))\n",
        "frequencies=Counter(bigrams)\n",
        "frequencies_sorted=sorted(frequencies.items(), key=lambda k: k[1],reverse=True)\n",
        "top_15=dict(frequencies_sorted[0:15])"
      ]
    },
    {
      "cell_type": "code",
      "execution_count": 71,
      "metadata": {
        "colab": {
          "base_uri": "https://localhost:8080/",
          "height": 472
        },
        "id": "CGbrjvSAmVW1",
        "outputId": "4c438bd6-c749-4c1d-a1fa-6ab8075a3738"
      },
      "outputs": [
        {
          "data": {
            "image/png": "[encoded data removed]",
            "text/plain": [
              "<Figure size 640x480 with 1 Axes>"
            ]
          },
          "metadata": {},
          "output_type": "display_data"
        }
      ],
      "source": [
        "plt.rcdefaults()\n",
        "fig, ax = plt.subplots()\n",
        "\n",
        "ngram = top_15.keys()\n",
        "y_pos = np.arange(len(ngram))\n",
        "performance = top_15.values()\n",
        "\n",
        "\n",
        "ax.barh(y_pos, performance, align='center')\n",
        "ax.set_yticks(y_pos)\n",
        "ax.set_yticklabels(ngram)\n",
        "ax.invert_yaxis()\n",
        "ax.set_xlabel('Adet')\n",
        "ax.set_title('Pozitif Yorumlarda Yanyana En Çok Geçen 15 Kelime')\n",
        "\n",
        "plt.show()"
      ]
    },
    {
      "cell_type": "code",
      "execution_count": 72,
      "metadata": {
        "id": "YZjVWot1nDuZ"
      },
      "outputs": [],
      "source": [
        "bigrams_neg=list(ngrams(neg_token_list,2))\n",
        "frequencies_neg=Counter(bigrams_neg)\n",
        "frequencies_sorted_neg=sorted(frequencies_neg.items(), key=lambda k: k[1],reverse=True)\n",
        "top_15_neg=dict(frequencies_sorted_neg[0:15])"
      ]
    },
    {
      "cell_type": "code",
      "execution_count": 73,
      "metadata": {
        "colab": {
          "base_uri": "https://localhost:8080/",
          "height": 472
        },
        "id": "mdqSMuHvoiwM",
        "outputId": "e3f2ef21-cb78-484d-b37f-c47ed342c14e"
      },
      "outputs": [
        {
          "data": {
            "image/png": "[encoded data removed]",
            "text/plain": [
              "<Figure size 640x480 with 1 Axes>"
            ]
          },
          "metadata": {},
          "output_type": "display_data"
        }
      ],
      "source": [
        "plt.rcdefaults()\n",
        "fig, ax = plt.subplots()\n",
        "\n",
        "# Example data\n",
        "ngram_neg = top_15_neg.keys()\n",
        "y_pos = np.arange(len(ngram_neg))\n",
        "performance_neg = top_15_neg.values()\n",
        "\n",
        "ax.barh(y_pos, performance_neg, align='center')\n",
        "ax.set_yticks(y_pos)\n",
        "ax.set_yticklabels(ngram_neg)\n",
        "ax.invert_yaxis()  # labels read top-to-bottom\n",
        "ax.set_xlabel('Adet')\n",
        "ax.set_title('Negatif Yorumlarda Yanyana En Çok Geçen 15 Kelime')\n",
        "\n",
        "plt.show()"
      ]
    },
    {
      "cell_type": "code",
      "execution_count": 76,
      "metadata": {
        "colab": {
          "base_uri": "https://localhost:8080/",
          "height": 49,
          "referenced_widgets": [
            "ee64ca310cde427eb65007c20936d868",
            "1a1baa808454462693f4a5d1b2bc36e2",
            "4c79b7d328504915a153971abbc05e0d",
            "f6694d7813fe4bff9781e2b9944255f1",
            "e8f396b574d6449f896fd6cbcffbc48d",
            "3c651abae62448ea9fec42d60f03fe98",
            "7140852c4f5842d6806eb329df97a832",
            "b4c3b3ff2cdc4235a24d124f8b8a6355",
            "23e7d558cecb43a68ef7422e43171850",
            "4516d2f6cbac445486eeef9e4a257755",
            "71c951f5d60049a5889d30a53ba930f4"
          ]
        },
        "collapsed": true,
        "id": "yXL6KdfN4CRi",
        "outputId": "f4897ace-72c7-4c8e-da09-4e44d0570d6d"
      },
      "outputs": [
        {
          "data": {
            "application/vnd.jupyter.widget-view+json": {
              "model_id": "ee64ca310cde427eb65007c20936d868",
              "version_major": 2,
              "version_minor": 0
            },
            "text/plain": [
              "sentencepiece.bpe.model:   0%|          | 0.00/5.07M [00:00<?, ?B/s]"
            ]
          },
          "metadata": {},
          "output_type": "display_data"
        }
      ],
      "source": [
        "from transformers import XLMRobertaTokenizer\n",
        "tokenizer = XLMRobertaTokenizer.from_pretrained('FacebookAI/xlm-roberta-base', do_lower_case = True)"
      ]
    },
    {
      "cell_type": "code",
      "execution_count": 78,
      "metadata": {
        "colab": {
          "base_uri": "https://localhost:8080/",
          "height": 465
        },
        "id": "mbWZQfrT4CPf",
        "outputId": "fb9657a8-b3c3-4709-ded0-4110c9ec97a9"
      },
      "outputs": [
        {
          "data": {
            "image/png": "[encoded data removed]",
            "text/plain": [
              "<Figure size 800x500 with 1 Axes>"
            ]
          },
          "metadata": {},
          "output_type": "display_data"
        }
      ],
      "source": [
        "import matplotlib.pyplot as plt\n",
        "def plot_sentence_embeddings_length(x, tokenizer):\n",
        "    tokenized_texts = list(map(lambda t: tokenizer.tokenize(t), x))\n",
        "    tokenized_texts_len = list(map(lambda t: len(t), tokenized_texts))\n",
        "    fig, ax = plt.subplots(figsize=(8, 5));\n",
        "    ax.hist(tokenized_texts_len, bins=40);\n",
        "    ax.set_xlabel(\"Yorumdaki Token Uzunlugu\");\n",
        "    ax.set_ylabel(\"Yorum Sayısı\");\n",
        "    return\n",
        "plot_sentence_embeddings_length(x, tokenizer)"
      ]
    },
    {
      "cell_type": "code",
      "execution_count": 77,
      "metadata": {
        "colab": {
          "base_uri": "https://localhost:8080/"
        },
        "id": "cWCJPQfl_wDs",
        "outputId": "cf408e7c-77ae-4aaf-923b-b38af857baa6"
      },
      "outputs": [
        {
          "data": {
            "text/plain": [
              "50000"
            ]
          },
          "execution_count": 77,
          "metadata": {},
          "output_type": "execute_result"
        }
      ],
      "source": [
        "len(x)"
      ]
    },
    {
      "cell_type": "code",
      "execution_count": 79,
      "metadata": {
        "colab": {
          "base_uri": "https://localhost:8080/",
          "height": 465
        },
        "id": "j5mDTu_64CM0",
        "outputId": "e8e172f1-53cb-414d-9d3a-2a54c38a3bcd"
      },
      "outputs": [
        {
          "data": {
            "image/png": "[encoded data removed]",
            "text/plain": [
              "<Figure size 800x500 with 1 Axes>"
            ]
          },
          "metadata": {},
          "output_type": "display_data"
        }
      ],
      "source": [
        "def filter_long_comments_and_labels(x, y, tokenizer, max_length=512):\n",
        "    # Yorumları tokenize et\n",
        "    tokenized_texts = list(map(lambda t: tokenizer.tokenize(t), x))\n",
        "\n",
        "    # Token sayısı 512'den az olan yorumları ve onların etiketlerini filtrele\n",
        "    filtered_x_y = [(text, label) for text, label, tokens in zip(x, y, tokenized_texts) if len(tokens) <= max_length]\n",
        "\n",
        "    # Filtrelenmiş x ve y listelerini ayır\n",
        "    filtered_x = [text for text, label in filtered_x_y]\n",
        "    filtered_y = [label for text, label in filtered_x_y]\n",
        "\n",
        "    return filtered_x, filtered_y\n",
        "\n",
        "filtered_x, filtered_y = filter_long_comments_and_labels(x, y, tokenizer)\n",
        "\n",
        "# Yeni veri seti ile histogramı yeniden çiz\n",
        "plot_sentence_embeddings_length(filtered_x, tokenizer)"
      ]
    },
    {
      "cell_type": "code",
      "execution_count": 80,
      "metadata": {
        "colab": {
          "base_uri": "https://localhost:8080/"
        },
        "id": "vHTb8myd4CIO",
        "outputId": "70668148-1c01-4e04-e3d4-6ce24bd517c2"
      },
      "outputs": [
        {
          "data": {
            "text/plain": [
              "48409"
            ]
          },
          "execution_count": 80,
          "metadata": {},
          "output_type": "execute_result"
        }
      ],
      "source": [
        "len(filtered_x)"
      ]
    },
    {
      "cell_type": "code",
      "execution_count": 81,
      "metadata": {
        "colab": {
          "base_uri": "https://localhost:8080/"
        },
        "id": "tBmmKqDu4CFj",
        "outputId": "25764250-12bb-47ba-f1fb-3d1a1ca2a7bb"
      },
      "outputs": [
        {
          "data": {
            "text/plain": [
              "48409"
            ]
          },
          "execution_count": 81,
          "metadata": {},
          "output_type": "execute_result"
        }
      ],
      "source": [
        "len(filtered_y)"
      ]
    },
    {
      "cell_type": "code",
      "execution_count": 82,
      "metadata": {
        "colab": {
          "base_uri": "https://localhost:8080/"
        },
        "id": "6MtjS_Ox4CCS",
        "outputId": "e5f58d27-b36c-4173-dc95-f9302c09892c"
      },
      "outputs": [
        {
          "name": "stdout",
          "output_type": "stream",
          "text": [
            "[0, 1632, 8347, 1314, 119056, 100244, 16876, 50094, 150522, 297, 7108, 66161, 73659, 5117, 13580, 91, 173964, 16876, 50029, 2481, 51, 36361, 19, 59207, 28302, 7, 95319, 5423, 7108, 2565, 738, 63207, 7639, 1071, 4288, 26498, 297, 144303, 7639, 50065, 7, 1992, 17007, 28601, 7, 125694, 1100, 95319, 24041, 54704, 4527, 2565, 35839, 16876, 128911, 11627, 34475, 362, 52260, 38132, 48031, 11341, 280, 93, 111152, 1294, 32153, 90, 5201, 538, 50419, 27245, 26349, 195935, 40059, 101085, 38750, 7, 47589, 12912, 7, 2577, 23, 19364, 7, 57137, 11192, 29361, 352, 26349, 5368, 5941, 187, 1643, 7, 23606, 7, 4642, 34840, 110147, 7, 124017, 7, 111880, 7, 17, 16507, 9023, 21493, 1577, 47219, 19252, 7, 26273, 3432, 184017, 7, 9638, 1459, 106689, 7, 8306, 2060, 16065, 2806, 5154, 5201, 149528, 7639, 4743, 15824, 60899, 45831, 26055, 90820, 28875, 75073, 112518, 297, 154909, 95771, 7, 90820, 108654, 90820, 99691, 16876, 2409, 7, 10932, 5117, 50094, 17669, 24124, 91, 173964, 24, 8946, 195195, 5154, 43542, 192509, 126809, 90365, 16876, 4163, 61689, 2785, 4806, 11192, 90926, 6, 48461, 95319, 95319, 23, 20314, 2980, 13081, 685, 297, 56050, 7, 54324, 300, 94558, 23, 120126, 67153, 12989, 2046, 16065, 5299, 144996, 297, 86991, 18507, 23, 120126, 69347, 101085, 4785, 17007, 4743, 92635, 48800, 59376, 101085, 16981, 100244, 16876, 1543, 24209, 104577, 51, 277, 17883, 2886, 21455, 214, 450, 7, 2046, 23996, 1011, 1728, 5609, 2, 1, 1, 1, 1, 1, 1, 1, 1, 1, 1, 1, 1, 1, 1, 1, 1, 1, 1, 1, 1, 1, 1, 1, 1, 1, 1, 1, 1, 1, 1, 1, 1, 1, 1, 1, 1, 1, 1, 1, 1, 1, 1, 1, 1, 1, 1, 1, 1, 1, 1, 1, 1, 1, 1, 1, 1, 1, 1, 1, 1, 1, 1, 1, 1, 1, 1, 1, 1, 1, 1, 1, 1, 1, 1, 1, 1, 1, 1, 1, 1, 1, 1, 1, 1, 1, 1, 1, 1, 1, 1, 1, 1, 1, 1, 1, 1, 1, 1, 1, 1, 1, 1, 1, 1, 1, 1, 1, 1, 1, 1, 1, 1, 1, 1, 1, 1, 1, 1, 1, 1, 1, 1, 1, 1, 1, 1, 1, 1, 1, 1, 1, 1, 1, 1, 1, 1, 1, 1, 1, 1, 1, 1, 1, 1, 1, 1, 1, 1, 1, 1, 1, 1, 1, 1, 1, 1, 1, 1, 1, 1, 1, 1, 1, 1, 1, 1, 1, 1, 1, 1, 1, 1, 1, 1, 1, 1, 1, 1, 1, 1, 1, 1, 1, 1, 1, 1, 1, 1, 1, 1, 1, 1, 1, 1, 1, 1, 1, 1, 1, 1, 1, 1, 1, 1, 1, 1, 1, 1, 1, 1, 1, 1, 1, 1, 1, 1, 1, 1, 1, 1, 1, 1, 1, 1, 1, 1, 1, 1, 1, 1, 1, 1, 1, 1, 1, 1, 1, 1, 1, 1, 1, 1, 1, 1, 1, 1, 1, 1, 1, 1, 1, 1, 1, 1, 1, 1, 1, 1, 1, 1, 1, 1, 1, 1, 1, 1, 1, 1, 1, 1, 1, 1, 1, 1, 1, 1, 1, 1, 1, 1, 1, 1, 1, 1]\n",
            "one reviewers mentioned watching oz episode hooked right exactly happened first thing struck oz brutality unflinching scenes violence set right word go trust show faint hearted timid show pulls punches regards drugs sex violence hardcore classic use word called oz nickname given oswald maximum security state penitentary focuses mainly emerald city experimental section prison cells glass fronts face inwards privacy high agenda em city home many aryans muslims gangstas latinos christians italians irish scuffles death stares dodgy dealings shady agreements never far away would say main appeal show due fact goes shows dare forget pretty pictures painted mainstream audiences forget charm forget romance oz mess around first episode ever saw struck nasty surreal say ready watched developed taste oz got accustomed high levels graphic violence violence injustice crooked guards sold nickel inmates kill order get away well mannered middle class inmates turned prison bitches due lack street skills prison experience watching oz may become comfortable uncomfortable viewing thats get touch darker side \n"
          ]
        }
      ],
      "source": [
        "indices = tokenizer.batch_encode_plus(filtered_x, max_length=512, add_special_tokens=True, padding='max_length', truncation=True)\n",
        "input_ids = indices[\"input_ids\"]\n",
        "attention_masks = indices[\"attention_mask\"]\n",
        "print(input_ids[0])\n",
        "print(filtered_x[0])"
      ]
    },
    {
      "cell_type": "code",
      "execution_count": 83,
      "metadata": {
        "id": "zq7695yKhRgU"
      },
      "outputs": [],
      "source": [
        "from sklearn.model_selection import train_test_split\n",
        "\n",
        "\n",
        "train_inputs, validation_inputs, train_labels, validation_labels = train_test_split(input_ids, filtered_y,\n",
        "                                                            random_state=42, test_size=0.2)\n",
        "\n",
        "train_masks, validation_masks, _, _ = train_test_split(attention_masks, filtered_y,\n",
        "                                             random_state=42, test_size=0.2)"
      ]
    },
    {
      "cell_type": "code",
      "execution_count": 84,
      "metadata": {
        "id": "uVrv9br0mlca"
      },
      "outputs": [],
      "source": [
        "train_inputs = torch.tensor(train_inputs)\n",
        "validation_inputs = torch.tensor(validation_inputs)\n",
        "train_labels = torch.tensor(train_labels, dtype=torch.long)\n",
        "validation_labels = torch.tensor(validation_labels, dtype=torch.long)\n",
        "train_masks = torch.tensor(train_masks, dtype=torch.long)\n",
        "validation_masks = torch.tensor(validation_masks, dtype=torch.long)"
      ]
    },
    {
      "cell_type": "code",
      "execution_count": 93,
      "metadata": {
        "id": "ERPKDo2uofWz"
      },
      "outputs": [],
      "source": [
        "from torch.utils.data import TensorDataset, DataLoader, RandomSampler, SequentialSampler\n",
        "\n",
        "batch_size = 16\n",
        "\n",
        "# Eğitim setimiz için DataLoader oluşturun.\n",
        "train_data = TensorDataset(train_inputs, train_masks, train_labels)\n",
        "train_sampler = RandomSampler(train_data)\n",
        "train_dataloader = DataLoader(train_data, sampler=train_sampler, batch_size=batch_size)\n",
        "\n",
        "# Validasyon setimiz için DataLoader oluşturun.\n",
        "validation_data = TensorDataset(validation_inputs, validation_masks, validation_labels)\n",
        "validation_sampler = SequentialSampler(validation_data)\n",
        "validation_dataloader = DataLoader(validation_data, sampler=validation_sampler, batch_size=batch_size)"
      ]
    },
    {
      "cell_type": "code",
      "execution_count": 94,
      "metadata": {
        "colab": {
          "base_uri": "https://localhost:8080/"
        },
        "id": "m6giwji5ouCD",
        "outputId": "dc76c681-0d61-49fa-bacb-890cc304cd45"
      },
      "outputs": [
        {
          "name": "stderr",
          "output_type": "stream",
          "text": [
            "Some weights of XLMRobertaForSequenceClassification were not initialized from the model checkpoint at FacebookAI/xlm-roberta-base and are newly initialized: ['classifier.dense.bias', 'classifier.dense.weight', 'classifier.out_proj.bias', 'classifier.out_proj.weight']\n",
            "You should probably TRAIN this model on a down-stream task to be able to use it for predictions and inference.\n"
          ]
        },
        {
          "data": {
            "text/plain": [
              "XLMRobertaForSequenceClassification(\n",
              "  (roberta): XLMRobertaModel(\n",
              "    (embeddings): XLMRobertaEmbeddings(\n",
              "      (word_embeddings): Embedding(250002, 768, padding_idx=1)\n",
              "      (position_embeddings): Embedding(514, 768, padding_idx=1)\n",
              "      (token_type_embeddings): Embedding(1, 768)\n",
              "      (LayerNorm): LayerNorm((768,), eps=1e-05, elementwise_affine=True)\n",
              "      (dropout): Dropout(p=0.1, inplace=False)\n",
              "    )\n",
              "    (encoder): XLMRobertaEncoder(\n",
              "      (layer): ModuleList(\n",
              "        (0-11): 12 x XLMRobertaLayer(\n",
              "          (attention): XLMRobertaAttention(\n",
              "            (self): XLMRobertaSelfAttention(\n",
              "              (query): Linear(in_features=768, out_features=768, bias=True)\n",
              "              (key): Linear(in_features=768, out_features=768, bias=True)\n",
              "              (value): Linear(in_features=768, out_features=768, bias=True)\n",
              "              (dropout): Dropout(p=0.1, inplace=False)\n",
              "            )\n",
              "            (output): XLMRobertaSelfOutput(\n",
              "              (dense): Linear(in_features=768, out_features=768, bias=True)\n",
              "              (LayerNorm): LayerNorm((768,), eps=1e-05, elementwise_affine=True)\n",
              "              (dropout): Dropout(p=0.1, inplace=False)\n",
              "            )\n",
              "          )\n",
              "          (intermediate): XLMRobertaIntermediate(\n",
              "            (dense): Linear(in_features=768, out_features=3072, bias=True)\n",
              "            (intermediate_act_fn): GELUActivation()\n",
              "          )\n",
              "          (output): XLMRobertaOutput(\n",
              "            (dense): Linear(in_features=3072, out_features=768, bias=True)\n",
              "            (LayerNorm): LayerNorm((768,), eps=1e-05, elementwise_affine=True)\n",
              "            (dropout): Dropout(p=0.1, inplace=False)\n",
              "          )\n",
              "        )\n",
              "      )\n",
              "    )\n",
              "  )\n",
              "  (classifier): XLMRobertaClassificationHead(\n",
              "    (dense): Linear(in_features=768, out_features=768, bias=True)\n",
              "    (dropout): Dropout(p=0.1, inplace=False)\n",
              "    (out_proj): Linear(in_features=768, out_features=2, bias=True)\n",
              "  )\n",
              ")"
            ]
          },
          "execution_count": 94,
          "metadata": {},
          "output_type": "execute_result"
        }
      ],
      "source": [
        "from transformers import AutoModelForSequenceClassification, AdamW, AutoConfig\n",
        "config = AutoConfig.from_pretrained(\n",
        "        \"FacebookAI/xlm-roberta-base\",num_labels=2)\n",
        "model = AutoModelForSequenceClassification.from_pretrained(\n",
        "    \"FacebookAI/xlm-roberta-base\",config=config)\n",
        "model.cuda()"
      ]
    },
    {
      "cell_type": "code",
      "execution_count": 95,
      "metadata": {
        "id": "qFszldT7o-U0"
      },
      "outputs": [],
      "source": [
        "optimizer = AdamW(model.parameters(),\n",
        "                  lr = 2e-5, # args.learning_rate - default is 5e-5\n",
        "                  betas=[0.9,0.999],\n",
        "                  eps = 1e-6 # args.adam_epsilon  - default is 1e-8.\n",
        "                )\n",
        "from transformers import get_linear_schedule_with_warmup\n",
        "\n",
        "# Eğitim epoklarının sayısı (2 ile 4 arası önerilmektedir)\n",
        "epochs = 2\n",
        "\n",
        "# Toplam eğitim adımı sayısı, grup sayısı * epok sayısıdır.\n",
        "total_steps = len(train_dataloader) * epochs\n",
        "\n",
        "# Öğrenme oranı zamanlayıcısını oluşturun.\n",
        "scheduler = get_linear_schedule_with_warmup(optimizer,\n",
        "                                            num_warmup_steps = 0,\n",
        "                                            num_training_steps = total_steps)"
      ]
    },
    {
      "cell_type": "code",
      "execution_count": 96,
      "metadata": {
        "id": "iIdqihAipPSV"
      },
      "outputs": [],
      "source": [
        "import numpy as np\n",
        "\n",
        "# Function to calculate the accuracy of our predictions vs labels\n",
        "def flat_accuracy(preds, labels):\n",
        "    pred_flat = np.argmax(preds, axis=1).flatten()\n",
        "    labels_flat = labels.flatten()\n",
        "    return np.sum(pred_flat == labels_flat) / len(labels_flat)"
      ]
    },
    {
      "cell_type": "code",
      "execution_count": 97,
      "metadata": {
        "id": "IXXCkRvnpS8G"
      },
      "outputs": [],
      "source": [
        "import time\n",
        "import datetime\n",
        "\n",
        "def format_time(elapsed):\n",
        "    '''\n",
        "    Takes a time in seconds and returns a string hh:mm:ss\n",
        "    '''\n",
        "    # Round to the nearest second.\n",
        "    elapsed_rounded = int(round((elapsed)))\n",
        "\n",
        "    # Format as hh:mm:ss\n",
        "    return str(datetime.timedelta(seconds=elapsed_rounded))"
      ]
    },
    {
      "cell_type": "code",
      "execution_count": 98,
      "metadata": {
        "colab": {
          "base_uri": "https://localhost:8080/"
        },
        "id": "43RezochpVUj",
        "outputId": "8e79c1f8-d512-4fa8-eacd-54d51ab7f3a5"
      },
      "outputs": [
        {
          "name": "stdout",
          "output_type": "stream",
          "text": [
            "\n",
            "======== Epoch 1 / 2 ========\n",
            "Training...\n",
            "  Batch    30  of  2,421.    Elapsed: 0:00:26.\n",
            "  Batch    60  of  2,421.    Elapsed: 0:00:51.\n",
            "  Batch    90  of  2,421.    Elapsed: 0:01:17.\n",
            "  Batch   120  of  2,421.    Elapsed: 0:01:42.\n",
            "  Batch   150  of  2,421.    Elapsed: 0:02:07.\n",
            "  Batch   180  of  2,421.    Elapsed: 0:02:33.\n",
            "  Batch   210  of  2,421.    Elapsed: 0:02:58.\n",
            "  Batch   240  of  2,421.    Elapsed: 0:03:24.\n",
            "  Batch   270  of  2,421.    Elapsed: 0:03:49.\n",
            "  Batch   300  of  2,421.    Elapsed: 0:04:14.\n",
            "  Batch   330  of  2,421.    Elapsed: 0:04:40.\n",
            "  Batch   360  of  2,421.    Elapsed: 0:05:05.\n",
            "  Batch   390  of  2,421.    Elapsed: 0:05:31.\n",
            "  Batch   420  of  2,421.    Elapsed: 0:05:56.\n",
            "  Batch   450  of  2,421.    Elapsed: 0:06:21.\n",
            "  Batch   480  of  2,421.    Elapsed: 0:06:47.\n",
            "  Batch   510  of  2,421.    Elapsed: 0:07:12.\n",
            "  Batch   540  of  2,421.    Elapsed: 0:07:38.\n",
            "  Batch   570  of  2,421.    Elapsed: 0:08:03.\n",
            "  Batch   600  of  2,421.    Elapsed: 0:08:28.\n",
            "  Batch   630  of  2,421.    Elapsed: 0:08:54.\n",
            "  Batch   660  of  2,421.    Elapsed: 0:09:19.\n",
            "  Batch   690  of  2,421.    Elapsed: 0:09:44.\n",
            "  Batch   720  of  2,421.    Elapsed: 0:10:10.\n",
            "  Batch   750  of  2,421.    Elapsed: 0:10:35.\n",
            "  Batch   780  of  2,421.    Elapsed: 0:11:01.\n",
            "  Batch   810  of  2,421.    Elapsed: 0:11:26.\n",
            "  Batch   840  of  2,421.    Elapsed: 0:11:51.\n",
            "  Batch   870  of  2,421.    Elapsed: 0:12:17.\n",
            "  Batch   900  of  2,421.    Elapsed: 0:12:42.\n",
            "  Batch   930  of  2,421.    Elapsed: 0:13:08.\n",
            "  Batch   960  of  2,421.    Elapsed: 0:13:33.\n",
            "  Batch   990  of  2,421.    Elapsed: 0:13:58.\n",
            "  Batch 1,020  of  2,421.    Elapsed: 0:14:24.\n",
            "  Batch 1,050  of  2,421.    Elapsed: 0:14:49.\n",
            "  Batch 1,080  of  2,421.    Elapsed: 0:15:15.\n",
            "  Batch 1,110  of  2,421.    Elapsed: 0:15:40.\n",
            "  Batch 1,140  of  2,421.    Elapsed: 0:16:05.\n",
            "  Batch 1,170  of  2,421.    Elapsed: 0:16:31.\n",
            "  Batch 1,200  of  2,421.    Elapsed: 0:16:56.\n",
            "  Batch 1,230  of  2,421.    Elapsed: 0:17:22.\n",
            "  Batch 1,260  of  2,421.    Elapsed: 0:17:47.\n",
            "  Batch 1,290  of  2,421.    Elapsed: 0:18:13.\n",
            "  Batch 1,320  of  2,421.    Elapsed: 0:18:38.\n",
            "  Batch 1,350  of  2,421.    Elapsed: 0:19:03.\n",
            "  Batch 1,380  of  2,421.    Elapsed: 0:19:29.\n",
            "  Batch 1,410  of  2,421.    Elapsed: 0:19:54.\n",
            "  Batch 1,440  of  2,421.    Elapsed: 0:20:20.\n",
            "  Batch 1,470  of  2,421.    Elapsed: 0:20:45.\n",
            "  Batch 1,500  of  2,421.    Elapsed: 0:21:10.\n",
            "  Batch 1,530  of  2,421.    Elapsed: 0:21:36.\n",
            "  Batch 1,560  of  2,421.    Elapsed: 0:22:01.\n",
            "  Batch 1,590  of  2,421.    Elapsed: 0:22:27.\n",
            "  Batch 1,620  of  2,421.    Elapsed: 0:22:52.\n",
            "  Batch 1,650  of  2,421.    Elapsed: 0:23:17.\n",
            "  Batch 1,680  of  2,421.    Elapsed: 0:23:43.\n",
            "  Batch 1,710  of  2,421.    Elapsed: 0:24:08.\n",
            "  Batch 1,740  of  2,421.    Elapsed: 0:24:34.\n",
            "  Batch 1,770  of  2,421.    Elapsed: 0:24:59.\n",
            "  Batch 1,800  of  2,421.    Elapsed: 0:25:24.\n",
            "  Batch 1,830  of  2,421.    Elapsed: 0:25:50.\n",
            "  Batch 1,860  of  2,421.    Elapsed: 0:26:15.\n",
            "  Batch 1,890  of  2,421.    Elapsed: 0:26:41.\n",
            "  Batch 1,920  of  2,421.    Elapsed: 0:27:06.\n",
            "  Batch 1,950  of  2,421.    Elapsed: 0:27:31.\n",
            "  Batch 1,980  of  2,421.    Elapsed: 0:27:57.\n",
            "  Batch 2,010  of  2,421.    Elapsed: 0:28:22.\n",
            "  Batch 2,040  of  2,421.    Elapsed: 0:28:48.\n",
            "  Batch 2,070  of  2,421.    Elapsed: 0:29:13.\n",
            "  Batch 2,100  of  2,421.    Elapsed: 0:29:39.\n",
            "  Batch 2,130  of  2,421.    Elapsed: 0:30:04.\n",
            "  Batch 2,160  of  2,421.    Elapsed: 0:30:29.\n",
            "  Batch 2,190  of  2,421.    Elapsed: 0:30:55.\n",
            "  Batch 2,220  of  2,421.    Elapsed: 0:31:20.\n",
            "  Batch 2,250  of  2,421.    Elapsed: 0:31:45.\n",
            "  Batch 2,280  of  2,421.    Elapsed: 0:32:11.\n",
            "  Batch 2,310  of  2,421.    Elapsed: 0:32:36.\n",
            "  Batch 2,340  of  2,421.    Elapsed: 0:33:02.\n",
            "  Batch 2,370  of  2,421.    Elapsed: 0:33:27.\n",
            "  Batch 2,400  of  2,421.    Elapsed: 0:33:52.\n",
            "\n",
            "  Average training loss: 0.33\n",
            "  Training epoch took: 0:34:10\n",
            "\n",
            "Running Validation...\n",
            "  Accuracy: 0.90\n",
            "  Validation took: 0:02:49\n",
            "\n",
            "======== Epoch 2 / 2 ========\n",
            "Training...\n",
            "  Batch    30  of  2,421.    Elapsed: 0:00:25.\n",
            "  Batch    60  of  2,421.    Elapsed: 0:00:51.\n",
            "  Batch    90  of  2,421.    Elapsed: 0:01:16.\n",
            "  Batch   120  of  2,421.    Elapsed: 0:01:42.\n",
            "  Batch   150  of  2,421.    Elapsed: 0:02:07.\n",
            "  Batch   180  of  2,421.    Elapsed: 0:02:32.\n",
            "  Batch   210  of  2,421.    Elapsed: 0:02:58.\n",
            "  Batch   240  of  2,421.    Elapsed: 0:03:23.\n",
            "  Batch   270  of  2,421.    Elapsed: 0:03:49.\n",
            "  Batch   300  of  2,421.    Elapsed: 0:04:14.\n",
            "  Batch   330  of  2,421.    Elapsed: 0:04:39.\n",
            "  Batch   360  of  2,421.    Elapsed: 0:05:05.\n",
            "  Batch   390  of  2,421.    Elapsed: 0:05:30.\n",
            "  Batch   420  of  2,421.    Elapsed: 0:05:56.\n",
            "  Batch   450  of  2,421.    Elapsed: 0:06:21.\n",
            "  Batch   480  of  2,421.    Elapsed: 0:06:46.\n",
            "  Batch   510  of  2,421.    Elapsed: 0:07:12.\n",
            "  Batch   540  of  2,421.    Elapsed: 0:07:37.\n",
            "  Batch   570  of  2,421.    Elapsed: 0:08:03.\n",
            "  Batch   600  of  2,421.    Elapsed: 0:08:28.\n",
            "  Batch   630  of  2,421.    Elapsed: 0:08:53.\n",
            "  Batch   660  of  2,421.    Elapsed: 0:09:19.\n",
            "  Batch   690  of  2,421.    Elapsed: 0:09:44.\n",
            "  Batch   720  of  2,421.    Elapsed: 0:10:10.\n",
            "  Batch   750  of  2,421.    Elapsed: 0:10:35.\n",
            "  Batch   780  of  2,421.    Elapsed: 0:11:01.\n",
            "  Batch   810  of  2,421.    Elapsed: 0:11:26.\n",
            "  Batch   840  of  2,421.    Elapsed: 0:11:51.\n",
            "  Batch   870  of  2,421.    Elapsed: 0:12:17.\n",
            "  Batch   900  of  2,421.    Elapsed: 0:12:42.\n",
            "  Batch   930  of  2,421.    Elapsed: 0:13:07.\n",
            "  Batch   960  of  2,421.    Elapsed: 0:13:33.\n",
            "  Batch   990  of  2,421.    Elapsed: 0:13:58.\n",
            "  Batch 1,020  of  2,421.    Elapsed: 0:14:24.\n",
            "  Batch 1,050  of  2,421.    Elapsed: 0:14:49.\n",
            "  Batch 1,080  of  2,421.    Elapsed: 0:15:14.\n",
            "  Batch 1,110  of  2,421.    Elapsed: 0:15:40.\n",
            "  Batch 1,140  of  2,421.    Elapsed: 0:16:05.\n",
            "  Batch 1,170  of  2,421.    Elapsed: 0:16:31.\n",
            "  Batch 1,200  of  2,421.    Elapsed: 0:16:56.\n",
            "  Batch 1,230  of  2,421.    Elapsed: 0:17:21.\n",
            "  Batch 1,260  of  2,421.    Elapsed: 0:17:47.\n",
            "  Batch 1,290  of  2,421.    Elapsed: 0:18:12.\n",
            "  Batch 1,320  of  2,421.    Elapsed: 0:18:38.\n",
            "  Batch 1,350  of  2,421.    Elapsed: 0:19:03.\n",
            "  Batch 1,380  of  2,421.    Elapsed: 0:19:28.\n",
            "  Batch 1,410  of  2,421.    Elapsed: 0:19:54.\n",
            "  Batch 1,440  of  2,421.    Elapsed: 0:20:19.\n",
            "  Batch 1,470  of  2,421.    Elapsed: 0:20:45.\n",
            "  Batch 1,500  of  2,421.    Elapsed: 0:21:10.\n",
            "  Batch 1,530  of  2,421.    Elapsed: 0:21:35.\n",
            "  Batch 1,560  of  2,421.    Elapsed: 0:22:01.\n",
            "  Batch 1,590  of  2,421.    Elapsed: 0:22:26.\n",
            "  Batch 1,620  of  2,421.    Elapsed: 0:22:52.\n",
            "  Batch 1,650  of  2,421.    Elapsed: 0:23:17.\n",
            "  Batch 1,680  of  2,421.    Elapsed: 0:23:42.\n",
            "  Batch 1,710  of  2,421.    Elapsed: 0:24:08.\n",
            "  Batch 1,740  of  2,421.    Elapsed: 0:24:33.\n",
            "  Batch 1,770  of  2,421.    Elapsed: 0:24:59.\n",
            "  Batch 1,800  of  2,421.    Elapsed: 0:25:24.\n",
            "  Batch 1,830  of  2,421.    Elapsed: 0:25:50.\n",
            "  Batch 1,860  of  2,421.    Elapsed: 0:26:15.\n",
            "  Batch 1,890  of  2,421.    Elapsed: 0:26:40.\n",
            "  Batch 1,920  of  2,421.    Elapsed: 0:27:06.\n",
            "  Batch 1,950  of  2,421.    Elapsed: 0:27:31.\n",
            "  Batch 1,980  of  2,421.    Elapsed: 0:27:57.\n",
            "  Batch 2,010  of  2,421.    Elapsed: 0:28:22.\n",
            "  Batch 2,040  of  2,421.    Elapsed: 0:28:47.\n",
            "  Batch 2,070  of  2,421.    Elapsed: 0:29:13.\n",
            "  Batch 2,100  of  2,421.    Elapsed: 0:29:38.\n",
            "  Batch 2,130  of  2,421.    Elapsed: 0:30:04.\n",
            "  Batch 2,160  of  2,421.    Elapsed: 0:30:29.\n",
            "  Batch 2,190  of  2,421.    Elapsed: 0:30:54.\n",
            "  Batch 2,220  of  2,421.    Elapsed: 0:31:20.\n",
            "  Batch 2,250  of  2,421.    Elapsed: 0:31:45.\n",
            "  Batch 2,280  of  2,421.    Elapsed: 0:32:11.\n",
            "  Batch 2,310  of  2,421.    Elapsed: 0:32:36.\n",
            "  Batch 2,340  of  2,421.    Elapsed: 0:33:01.\n",
            "  Batch 2,370  of  2,421.    Elapsed: 0:33:27.\n",
            "  Batch 2,400  of  2,421.    Elapsed: 0:33:52.\n",
            "\n",
            "  Average training loss: 0.21\n",
            "  Training epoch took: 0:34:10\n",
            "\n",
            "Running Validation...\n",
            "  Accuracy: 0.91\n",
            "  Validation took: 0:02:49\n",
            "\n",
            "Training complete!\n"
          ]
        }
      ],
      "source": [
        "import random\n",
        "\n",
        "# This training code is based on the `run_glue.py` script here:\n",
        "# https://github.com/huggingface/transformers/blob/5bfcd0485ece086ebcbed2d008813037968a9e58/examples/run_glue.py#L128\n",
        "\n",
        "\n",
        "seed_val = 42\n",
        "\n",
        "random.seed(seed_val)\n",
        "np.random.seed(seed_val)\n",
        "torch.manual_seed(seed_val)\n",
        "torch.cuda.manual_seed_all(seed_val)\n",
        "\n",
        "loss_values = []\n",
        "\n",
        "# For each epoch...\n",
        "for epoch_i in range(0, epochs):\n",
        "\n",
        "    # ========================================\n",
        "    #               Training\n",
        "    # ========================================\n",
        "\n",
        "\n",
        "    print(\"\")\n",
        "    print('======== Epoch {:} / {:} ========'.format(epoch_i + 1, epochs))\n",
        "    print('Training...')\n",
        "\n",
        "    t0 = time.time()\n",
        "\n",
        "    total_loss = 0\n",
        "\n",
        "    model.train()\n",
        "\n",
        "    for step, batch in enumerate(train_dataloader):\n",
        "\n",
        "        if step % 30 == 0 and not step == 0:\n",
        "            elapsed = format_time(time.time() - t0)\n",
        "\n",
        "            print('  Batch {:>5,}  of  {:>5,}.    Elapsed: {:}.'.format(step, len(train_dataloader), elapsed))\n",
        "\n",
        "\n",
        "        b_input_ids = batch[0].to(device)\n",
        "        b_input_mask = batch[1].to(device)\n",
        "        b_labels = batch[2].to(device)\n",
        "\n",
        "\n",
        "        model.zero_grad()\n",
        "\n",
        "        outputs = model(b_input_ids,\n",
        "                    attention_mask=b_input_mask,\n",
        "                    labels=b_labels)\n",
        "\n",
        "\n",
        "        loss = outputs[0]\n",
        "\n",
        "        total_loss += loss.item()\n",
        "\n",
        "        loss.backward()\n",
        "\n",
        "        torch.nn.utils.clip_grad_norm_(model.parameters(), 1.0)\n",
        "\n",
        "        optimizer.step()\n",
        "\n",
        "        scheduler.step()\n",
        "\n",
        "    avg_train_loss = total_loss / len(train_dataloader)\n",
        "\n",
        "    loss_values.append(avg_train_loss)\n",
        "\n",
        "    print(\"\")\n",
        "    print(\"  Average training loss: {0:.2f}\".format(avg_train_loss))\n",
        "    print(\"  Training epoch took: {:}\".format(format_time(time.time() - t0)))\n",
        "\n",
        "    # ========================================\n",
        "    #               Validation\n",
        "    # ========================================\n",
        "    # After the completion of each training epoch, measure our performance on\n",
        "    # our validation set.\n",
        "\n",
        "    print(\"\")\n",
        "    print(\"Running Validation...\")\n",
        "\n",
        "    t0 = time.time()\n",
        "\n",
        "    model.eval()\n",
        "\n",
        "    eval_loss, eval_accuracy = 0, 0\n",
        "    nb_eval_steps, nb_eval_examples = 0, 0\n",
        "\n",
        "    for batch in validation_dataloader:\n",
        "\n",
        "        # Add batch to GPU\n",
        "        batch = tuple(t.to(device) for t in batch)\n",
        "\n",
        "        # Unpack the inputs from our dataloader\n",
        "        b_input_ids, b_input_mask, b_labels = batch\n",
        "\n",
        "        # Telling the model not to compute or store gradients, saving memory and\n",
        "        # speeding up validation\n",
        "        with torch.no_grad():\n",
        "\n",
        "            # Forward pass, calculate logit predictions.\n",
        "            # This will return the logits rather than the loss because we have\n",
        "            # not provided labels.\n",
        "            # token_type_ids is the same as the \"segment ids\", which\n",
        "            # differentiates sentence 1 and 2 in 2-sentence tasks.\n",
        "            # The documentation for this `model` function is here:\n",
        "            # https://huggingface.co/transformers/v2.2.0/model_doc/bert.html#transformers.BertForSequenceClassification\n",
        "            outputs = model(b_input_ids,\n",
        "                            attention_mask=b_input_mask)\n",
        "\n",
        "        # Get the \"logits\" output by the model. The \"logits\" are the output\n",
        "        # values prior to applying an activation function like the softmax.\n",
        "        logits = outputs[0]\n",
        "\n",
        "        # Move logits and labels to CPU\n",
        "        logits = logits.detach().cpu().numpy()\n",
        "        label_ids = b_labels.to('cpu').numpy()\n",
        "\n",
        "        # Calculate the accuracy for this batch of test sentences.\n",
        "        tmp_eval_accuracy = flat_accuracy(logits, label_ids)\n",
        "\n",
        "        # Accumulate the total accuracy.\n",
        "        eval_accuracy += tmp_eval_accuracy\n",
        "\n",
        "        # Track the number of batches\n",
        "        nb_eval_steps += 1\n",
        "\n",
        "    # Report the final accuracy for this validation run.\n",
        "    print(\"  Accuracy: {0:.2f}\".format(eval_accuracy/nb_eval_steps))\n",
        "    print(\"  Validation took: {:}\".format(format_time(time.time() - t0)))\n",
        "\n",
        "print(\"\")\n",
        "print(\"Training complete!\")"
      ]
    },
    {
      "cell_type": "code",
      "execution_count": 99,
      "metadata": {
        "colab": {
          "base_uri": "https://localhost:8080/"
        },
        "id": "f5HT47yU4feR",
        "outputId": "119e165b-660e-4d05-90b6-8af8c8037be6"
      },
      "outputs": [
        {
          "name": "stdout",
          "output_type": "stream",
          "text": [
            "Predicting labels for 9,682 test sentences...\n",
            "    DONE.\n"
          ]
        }
      ],
      "source": [
        "# Prediction on test set\n",
        "\n",
        "print('Predicting labels for {:,} test sentences...'.format(len(validation_inputs)))\n",
        "\n",
        "# Put model in evaluation mode\n",
        "model.eval()\n",
        "\n",
        "# Tracking variables\n",
        "predictions , true_labels = [], []\n",
        "\n",
        "# Predict\n",
        "for batch in validation_dataloader:\n",
        "  # Add batch to GPU\n",
        "  batch = tuple(t.to(device) for t in batch)\n",
        "\n",
        "  # Unpack the inputs from our dataloader\n",
        "  b_input_ids1, b_input_mask1, b_labels1 = batch\n",
        "\n",
        "  # Telling the model not to compute or store gradients, saving memory and\n",
        "  # speeding up prediction\n",
        "  with torch.no_grad():\n",
        "      # Forward pass, calculate logit predictions\n",
        "      outputs1 = model(b_input_ids1,\n",
        "                      attention_mask=b_input_mask1)\n",
        "\n",
        "  logits1 = outputs1[0]\n",
        "\n",
        "  # Move logits and labels to CPU\n",
        "  logits1 = logits1.detach().cpu().numpy()\n",
        "  label_ids1 = b_labels1.to('cpu').numpy()\n",
        "\n",
        "  # Store predictions and true labels\n",
        "  predictions.append(logits1)\n",
        "  true_labels.append(label_ids1)\n",
        "\n",
        "print('    DONE.')"
      ]
    },
    {
      "cell_type": "code",
      "execution_count": 100,
      "metadata": {
        "id": "sMUKwNqV6TIv"
      },
      "outputs": [],
      "source": [
        "# Combine the predictions for each batch into a single list of 0s and 1s.\n",
        "flat_predictions = [item for sublist in predictions for item in sublist]\n",
        "flat_predictions = np.argmax(flat_predictions, axis=1).flatten()\n",
        "# Combine the correct labels for each batch into a single list.\n",
        "flat_true_labels = [item for sublist in true_labels for item in sublist]"
      ]
    },
    {
      "cell_type": "code",
      "execution_count": 101,
      "metadata": {
        "colab": {
          "base_uri": "https://localhost:8080/"
        },
        "id": "_lOpX0ll6Tv3",
        "outputId": "bc5c4e87-1d47-4787-fc76-e0e96e512c8c"
      },
      "outputs": [
        {
          "name": "stdout",
          "output_type": "stream",
          "text": [
            "Accuracy of BERT is: 0.910865523652138\n"
          ]
        }
      ],
      "source": [
        "from sklearn.metrics import accuracy_score\n",
        "print(\"Accuracy of BERT is:\",accuracy_score(flat_true_labels, flat_predictions))"
      ]
    },
    {
      "cell_type": "code",
      "execution_count": 102,
      "metadata": {
        "colab": {
          "base_uri": "https://localhost:8080/"
        },
        "id": "gXEpu6Wu6V19",
        "outputId": "105e2b04-7e55-4d45-afe8-3c6d99265688"
      },
      "outputs": [
        {
          "name": "stdout",
          "output_type": "stream",
          "text": [
            "              precision    recall  f1-score   support\n",
            "\n",
            "           0       0.94      0.89      0.91      4940\n",
            "           1       0.89      0.94      0.91      4742\n",
            "\n",
            "    accuracy                           0.91      9682\n",
            "   macro avg       0.91      0.91      0.91      9682\n",
            "weighted avg       0.91      0.91      0.91      9682\n",
            "\n"
          ]
        }
      ],
      "source": [
        "from sklearn.metrics import classification_report\n",
        "print(classification_report(flat_true_labels, flat_predictions))"
      ]
    },
    {
      "cell_type": "code",
      "execution_count": 103,
      "metadata": {
        "id": "BYVV2eWv642k"
      },
      "outputs": [],
      "source": [
        "torch.save(model.state_dict(), '/content/drive/MyDrive/Movie_Reviews_Dataset/sentiment_analysis_from_xlm_roberta.pth')\n",
        "torch.save(model.state_dict(), '/content/drive/MyDrive/Movie_Reviews_Dataset/sentiment_analysis_from_xlm_roberta.bin')"
      ]
    }
  ],
  "metadata": {
    "accelerator": "GPU",
    "colab": {
      "gpuType": "L4",
      "machine_shape": "hm",
      "provenance": []
    },
    "kernelspec": {
      "display_name": "Python 3",
      "name": "python3"
    },
    "language_info": {
      "name": "python"
    },
    "widgets": {
      "application/vnd.jupyter.widget-state+json": {
        "1a1baa808454462693f4a5d1b2bc36e2": {
          "model_module": "@jupyter-widgets/controls",
          "model_module_version": "1.5.0",
          "model_name": "HTMLModel",
          "state": {
            "_dom_classes": [],
            "_model_module": "@jupyter-widgets/controls",
            "_model_module_version": "1.5.0",
            "_model_name": "HTMLModel",
            "_view_count": null,
            "_view_module": "@jupyter-widgets/controls",
            "_view_module_version": "1.5.0",
            "_view_name": "HTMLView",
            "description": "",
            "description_tooltip": null,
            "layout": "IPY_MODEL_3c651abae62448ea9fec42d60f03fe98",
            "placeholder": "​",
            "style": "IPY_MODEL_7140852c4f5842d6806eb329df97a832",
            "value": "sentencepiece.bpe.model: 100%"
          }
        },
        "23e7d558cecb43a68ef7422e43171850": {
          "model_module": "@jupyter-widgets/controls",
          "model_module_version": "1.5.0",
          "model_name": "ProgressStyleModel",
          "state": {
            "_model_module": "@jupyter-widgets/controls",
            "_model_module_version": "1.5.0",
            "_model_name": "ProgressStyleModel",
            "_view_count": null,
            "_view_module": "@jupyter-widgets/base",
            "_view_module_version": "1.2.0",
            "_view_name": "StyleView",
            "bar_color": null,
            "description_width": ""
          }
        },
        "3c651abae62448ea9fec42d60f03fe98": {
          "model_module": "@jupyter-widgets/base",
          "model_module_version": "1.2.0",
          "model_name": "LayoutModel",
          "state": {
            "_model_module": "@jupyter-widgets/base",
            "_model_module_version": "1.2.0",
            "_model_name": "LayoutModel",
            "_view_count": null,
            "_view_module": "@jupyter-widgets/base",
            "_view_module_version": "1.2.0",
            "_view_name": "LayoutView",
            "align_content": null,
            "align_items": null,
            "align_self": null,
            "border": null,
            "bottom": null,
            "display": null,
            "flex": null,
            "flex_flow": null,
            "grid_area": null,
            "grid_auto_columns": null,
            "grid_auto_flow": null,
            "grid_auto_rows": null,
            "grid_column": null,
            "grid_gap": null,
            "grid_row": null,
            "grid_template_areas": null,
            "grid_template_columns": null,
            "grid_template_rows": null,
            "height": null,
            "justify_content": null,
            "justify_items": null,
            "left": null,
            "margin": null,
            "max_height": null,
            "max_width": null,
            "min_height": null,
            "min_width": null,
            "object_fit": null,
            "object_position": null,
            "order": null,
            "overflow": null,
            "overflow_x": null,
            "overflow_y": null,
            "padding": null,
            "right": null,
            "top": null,
            "visibility": null,
            "width": null
          }
        },
        "4516d2f6cbac445486eeef9e4a257755": {
          "model_module": "@jupyter-widgets/base",
          "model_module_version": "1.2.0",
          "model_name": "LayoutModel",
          "state": {
            "_model_module": "@jupyter-widgets/base",
            "_model_module_version": "1.2.0",
            "_model_name": "LayoutModel",
            "_view_count": null,
            "_view_module": "@jupyter-widgets/base",
            "_view_module_version": "1.2.0",
            "_view_name": "LayoutView",
            "align_content": null,
            "align_items": null,
            "align_self": null,
            "border": null,
            "bottom": null,
            "display": null,
            "flex": null,
            "flex_flow": null,
            "grid_area": null,
            "grid_auto_columns": null,
            "grid_auto_flow": null,
            "grid_auto_rows": null,
            "grid_column": null,
            "grid_gap": null,
            "grid_row": null,
            "grid_template_areas": null,
            "grid_template_columns": null,
            "grid_template_rows": null,
            "height": null,
            "justify_content": null,
            "justify_items": null,
            "left": null,
            "margin": null,
            "max_height": null,
            "max_width": null,
            "min_height": null,
            "min_width": null,
            "object_fit": null,
            "object_position": null,
            "order": null,
            "overflow": null,
            "overflow_x": null,
            "overflow_y": null,
            "padding": null,
            "right": null,
            "top": null,
            "visibility": null,
            "width": null
          }
        },
        "4c79b7d328504915a153971abbc05e0d": {
          "model_module": "@jupyter-widgets/controls",
          "model_module_version": "1.5.0",
          "model_name": "FloatProgressModel",
          "state": {
            "_dom_classes": [],
            "_model_module": "@jupyter-widgets/controls",
            "_model_module_version": "1.5.0",
            "_model_name": "FloatProgressModel",
            "_view_count": null,
            "_view_module": "@jupyter-widgets/controls",
            "_view_module_version": "1.5.0",
            "_view_name": "ProgressView",
            "bar_style": "success",
            "description": "",
            "description_tooltip": null,
            "layout": "IPY_MODEL_b4c3b3ff2cdc4235a24d124f8b8a6355",
            "max": 5069051,
            "min": 0,
            "orientation": "horizontal",
            "style": "IPY_MODEL_23e7d558cecb43a68ef7422e43171850",
            "value": 5069051
          }
        },
        "7140852c4f5842d6806eb329df97a832": {
          "model_module": "@jupyter-widgets/controls",
          "model_module_version": "1.5.0",
          "model_name": "DescriptionStyleModel",
          "state": {
            "_model_module": "@jupyter-widgets/controls",
            "_model_module_version": "1.5.0",
            "_model_name": "DescriptionStyleModel",
            "_view_count": null,
            "_view_module": "@jupyter-widgets/base",
            "_view_module_version": "1.2.0",
            "_view_name": "StyleView",
            "description_width": ""
          }
        },
        "71c951f5d60049a5889d30a53ba930f4": {
          "model_module": "@jupyter-widgets/controls",
          "model_module_version": "1.5.0",
          "model_name": "DescriptionStyleModel",
          "state": {
            "_model_module": "@jupyter-widgets/controls",
            "_model_module_version": "1.5.0",
            "_model_name": "DescriptionStyleModel",
            "_view_count": null,
            "_view_module": "@jupyter-widgets/base",
            "_view_module_version": "1.2.0",
            "_view_name": "StyleView",
            "description_width": ""
          }
        },
        "b4c3b3ff2cdc4235a24d124f8b8a6355": {
          "model_module": "@jupyter-widgets/base",
          "model_module_version": "1.2.0",
          "model_name": "LayoutModel",
          "state": {
            "_model_module": "@jupyter-widgets/base",
            "_model_module_version": "1.2.0",
            "_model_name": "LayoutModel",
            "_view_count": null,
            "_view_module": "@jupyter-widgets/base",
            "_view_module_version": "1.2.0",
            "_view_name": "LayoutView",
            "align_content": null,
            "align_items": null,
            "align_self": null,
            "border": null,
            "bottom": null,
            "display": null,
            "flex": null,
            "flex_flow": null,
            "grid_area": null,
            "grid_auto_columns": null,
            "grid_auto_flow": null,
            "grid_auto_rows": null,
            "grid_column": null,
            "grid_gap": null,
            "grid_row": null,
            "grid_template_areas": null,
            "grid_template_columns": null,
            "grid_template_rows": null,
            "height": null,
            "justify_content": null,
            "justify_items": null,
            "left": null,
            "margin": null,
            "max_height": null,
            "max_width": null,
            "min_height": null,
            "min_width": null,
            "object_fit": null,
            "object_position": null,
            "order": null,
            "overflow": null,
            "overflow_x": null,
            "overflow_y": null,
            "padding": null,
            "right": null,
            "top": null,
            "visibility": null,
            "width": null
          }
        },
        "e8f396b574d6449f896fd6cbcffbc48d": {
          "model_module": "@jupyter-widgets/base",
          "model_module_version": "1.2.0",
          "model_name": "LayoutModel",
          "state": {
            "_model_module": "@jupyter-widgets/base",
            "_model_module_version": "1.2.0",
            "_model_name": "LayoutModel",
            "_view_count": null,
            "_view_module": "@jupyter-widgets/base",
            "_view_module_version": "1.2.0",
            "_view_name": "LayoutView",
            "align_content": null,
            "align_items": null,
            "align_self": null,
            "border": null,
            "bottom": null,
            "display": null,
            "flex": null,
            "flex_flow": null,
            "grid_area": null,
            "grid_auto_columns": null,
            "grid_auto_flow": null,
            "grid_auto_rows": null,
            "grid_column": null,
            "grid_gap": null,
            "grid_row": null,
            "grid_template_areas": null,
            "grid_template_columns": null,
            "grid_template_rows": null,
            "height": null,
            "justify_content": null,
            "justify_items": null,
            "left": null,
            "margin": null,
            "max_height": null,
            "max_width": null,
            "min_height": null,
            "min_width": null,
            "object_fit": null,
            "object_position": null,
            "order": null,
            "overflow": null,
            "overflow_x": null,
            "overflow_y": null,
            "padding": null,
            "right": null,
            "top": null,
            "visibility": null,
            "width": null
          }
        },
        "ee64ca310cde427eb65007c20936d868": {
          "model_module": "@jupyter-widgets/controls",
          "model_module_version": "1.5.0",
          "model_name": "HBoxModel",
          "state": {
            "_dom_classes": [],
            "_model_module": "@jupyter-widgets/controls",
            "_model_module_version": "1.5.0",
            "_model_name": "HBoxModel",
            "_view_count": null,
            "_view_module": "@jupyter-widgets/controls",
            "_view_module_version": "1.5.0",
            "_view_name": "HBoxView",
            "box_style": "",
            "children": [
              "IPY_MODEL_1a1baa808454462693f4a5d1b2bc36e2",
              "IPY_MODEL_4c79b7d328504915a153971abbc05e0d",
              "IPY_MODEL_f6694d7813fe4bff9781e2b9944255f1"
            ],
            "layout": "IPY_MODEL_e8f396b574d6449f896fd6cbcffbc48d"
          }
        },
        "f6694d7813fe4bff9781e2b9944255f1": {
          "model_module": "@jupyter-widgets/controls",
          "model_module_version": "1.5.0",
          "model_name": "HTMLModel",
          "state": {
            "_dom_classes": [],
            "_model_module": "@jupyter-widgets/controls",
            "_model_module_version": "1.5.0",
            "_model_name": "HTMLModel",
            "_view_count": null,
            "_view_module": "@jupyter-widgets/controls",
            "_view_module_version": "1.5.0",
            "_view_name": "HTMLView",
            "description": "",
            "description_tooltip": null,
            "layout": "IPY_MODEL_4516d2f6cbac445486eeef9e4a257755",
            "placeholder": "​",
            "style": "IPY_MODEL_71c951f5d60049a5889d30a53ba930f4",
            "value": " 5.07M/5.07M [00:00&lt;00:00, 15.2MB/s]"
          }
        }
      }
    }
  },
  "nbformat": 4,
  "nbformat_minor": 0
}
